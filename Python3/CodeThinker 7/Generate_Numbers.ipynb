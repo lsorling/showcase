{
  "nbformat": 4,
  "nbformat_minor": 0,
  "metadata": {
    "colab": {
      "name": "Generate Numbers.ipynb",
      "provenance": []
    },
    "kernelspec": {
      "name": "python3",
      "display_name": "Python 3"
    },
    "language_info": {
      "name": "python"
    }
  },
  "cells": [
    {
      "cell_type": "markdown",
      "source": [
        "# Code Challenge\n",
        "\n",
        "Dated 1 Apr 2022   \n",
        "For CodeThinker 7\n",
        "\n",
        "Do you play the game \"Sudoku\"?   \n",
        "The game includes a puzzle with a 3 by 3 square filled with numbers from 1 to 9.\n",
        "\n",
        "Let's use our Python knowledge to try and generate such numbers:    \n",
        "4 2 5  \n",
        "3 1 7    \n",
        "8 9 6    \n",
        "\n",
        "The digits cannot be repeated.  \n",
        "\n",
        "For this coding task, you must use \"while\" loop."
      ],
      "metadata": {
        "id": "z741m1TqZGr2"
      }
    },
    {
      "cell_type": "markdown",
      "source": [
        "Hints:\n",
        "* Use random module to generate random number between 1 and 9\n",
        "* Check out the String method find() to see if the given String value can be\n",
        "found within the contents. Read [here](https://www.w3schools.com/python/ref_string_find.asp):"
      ],
      "metadata": {
        "id": "Fsd-PM9lZTri"
      }
    },
    {
      "cell_type": "markdown",
      "source": [
        "## Computational Thinking\n",
        "\n",
        "Let's break down the problem.   \n",
        "You can leave the displaying of 9 numbers as the second step.\n",
        "\n",
        "Focus on step one, which is to generate a String with 9 numbers where the digits cannot repeat itself.\n",
        "\n",
        "### Step 1: Generate 9 digits without repeating\n",
        "\n",
        "The first idea that comes to mind, is to use \"for loop\" since I needed 9 numbers.  Simple: repeat 9 times.\n",
        "\n",
        "But if you do that, the chances of getting digits that appear more than once is high.\n",
        "\n",
        "Next thing, that comes to mind is, \"oh let's use an \"if condition\" to check then\".  That's great.\n",
        "\n",
        "But how.\n",
        "\n",
        "Another problem is, how would you know the digit is already in use?  Did you read up on the String find() method? That function will return -1 if the target value is not found in the given String.\n"
      ],
      "metadata": {
        "id": "JUwFATefbZsB"
      }
    },
    {
      "cell_type": "code",
      "execution_count": 3,
      "metadata": {
        "colab": {
          "base_uri": "https://localhost:8080/"
        },
        "id": "xckSD31vYNJ0",
        "outputId": "9ae8493d-5573-4ebb-cec5-0d254873c9e7"
      },
      "outputs": [
        {
          "output_type": "stream",
          "name": "stdout",
          "text": [
            "step1:\n",
            "385621497\n",
            "\n",
            "step2:\n",
            "5 1 7 \n",
            "3 6 4 \n",
            "8 2 9 \n"
          ]
        }
      ],
      "source": [
        "import random \n",
        "\n",
        "accepted = \"\"\n",
        "count = 0\n",
        "\n",
        "while count < 9:\n",
        "  ranNumber = str(random.randint(1, 9))\n",
        "\n",
        "  if accepted.find(ranNumber) == -1:\n",
        "    # not found\n",
        "    accepted = accepted + ranNumber\n",
        "    count = count + 1\n",
        "  else:\n",
        "    # found so discard\n",
        "    pass\n",
        "\n",
        "print(\"step1:\")\n",
        "print(accepted)\n",
        "\n",
        "######################################\n",
        "print()\n",
        "print(\"step2:\")\n",
        "\n",
        "count = 1\n",
        "row1 = \"\"\n",
        "row2 = \"\"\n",
        "row3 = \"\"\n",
        "for letter in accepted:\n",
        "  if count % 3 == 0:\n",
        "    row1 = row1 + letter + \" \"\n",
        "  elif count % 3 == 1:\n",
        "    row2 = row2 + letter + \" \"\n",
        "  else:\n",
        "    row3 = row3 + letter + \" \"\n",
        "    \n",
        "  count = count + 1\n",
        "print(row1)\n",
        "print(row2)\n",
        "print(row3)"
      ]
    }
  ]
}
